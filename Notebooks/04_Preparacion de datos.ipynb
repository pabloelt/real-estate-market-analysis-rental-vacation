{
 "cells": [
  {
   "cell_type": "markdown",
   "id": "d8effe98",
   "metadata": {},
   "source": [
    "# PREPARACION DE DATOS"
   ]
  },
  {
   "cell_type": "markdown",
   "id": "1e7f1a70",
   "metadata": {},
   "source": [
    "En esta fase vamos a crear nuevas variables o transformar las existentes para poder dar mejor respuesta a nuestro objetivo."
   ]
  },
  {
   "cell_type": "markdown",
   "id": "9a6a6b4e",
   "metadata": {},
   "source": [
    "## SET UP"
   ]
  },
  {
   "cell_type": "code",
   "execution_count": 1,
   "id": "08010f88",
   "metadata": {},
   "outputs": [],
   "source": [
    "import numpy as np\n",
    "import pandas as pd\n",
    "import matplotlib.pyplot as plt\n",
    "%matplotlib inline\n",
    "import seaborn as sns\n",
    "import sqlalchemy as sa\n",
    "\n",
    "#Automcompletar rápido\n",
    "%config IPCompleter.greedy=True\n",
    "\n",
    "pd.options.display.max_columns = None"
   ]
  },
  {
   "cell_type": "markdown",
   "id": "f7b01958",
   "metadata": {},
   "source": [
    "## CARGA DE DATOS"
   ]
  },
  {
   "cell_type": "code",
   "execution_count": 2,
   "id": "c5bb22c1",
   "metadata": {},
   "outputs": [
    {
     "data": {
      "text/html": [
       "<div>\n",
       "<style scoped>\n",
       "    .dataframe tbody tr th:only-of-type {\n",
       "        vertical-align: middle;\n",
       "    }\n",
       "\n",
       "    .dataframe tbody tr th {\n",
       "        vertical-align: top;\n",
       "    }\n",
       "\n",
       "    .dataframe thead th {\n",
       "        text-align: right;\n",
       "    }\n",
       "</style>\n",
       "<table border=\"1\" class=\"dataframe\">\n",
       "  <thead>\n",
       "    <tr style=\"text-align: right;\">\n",
       "      <th></th>\n",
       "      <th>index</th>\n",
       "      <th>id</th>\n",
       "      <th>name</th>\n",
       "      <th>host_id</th>\n",
       "      <th>neighbourhood_group</th>\n",
       "      <th>neighbourhood</th>\n",
       "      <th>latitude</th>\n",
       "      <th>longitude</th>\n",
       "      <th>room_type</th>\n",
       "      <th>price</th>\n",
       "      <th>minimum_nights</th>\n",
       "      <th>calculated_host_listings_count</th>\n",
       "      <th>availability_365</th>\n",
       "      <th>description</th>\n",
       "      <th>host_is_superhost</th>\n",
       "      <th>accommodates</th>\n",
       "      <th>bedrooms</th>\n",
       "      <th>beds</th>\n",
       "      <th>number_of_reviews</th>\n",
       "      <th>review_scores_rating</th>\n",
       "      <th>review_scores_communication</th>\n",
       "      <th>review_scores_location</th>\n",
       "      <th>precio_m2</th>\n",
       "      <th>distrito</th>\n",
       "    </tr>\n",
       "  </thead>\n",
       "  <tbody>\n",
       "    <tr>\n",
       "      <th>0</th>\n",
       "      <td>0</td>\n",
       "      <td>6369</td>\n",
       "      <td>Rooftop terrace room ,  ensuite bathroom</td>\n",
       "      <td>13660</td>\n",
       "      <td>Chamartín</td>\n",
       "      <td>Hispanoamérica</td>\n",
       "      <td>40.45724</td>\n",
       "      <td>-3.67688</td>\n",
       "      <td>Private room</td>\n",
       "      <td>60</td>\n",
       "      <td>1</td>\n",
       "      <td>2</td>\n",
       "      <td>180</td>\n",
       "      <td>Excellent connection with the AIRPORT and EXHI...</td>\n",
       "      <td>t</td>\n",
       "      <td>2</td>\n",
       "      <td>1.0</td>\n",
       "      <td>1.0</td>\n",
       "      <td>80</td>\n",
       "      <td>4.87</td>\n",
       "      <td>4.89</td>\n",
       "      <td>4.77</td>\n",
       "      <td>5098</td>\n",
       "      <td>Chamartín</td>\n",
       "    </tr>\n",
       "    <tr>\n",
       "      <th>1</th>\n",
       "      <td>1</td>\n",
       "      <td>21853</td>\n",
       "      <td>Bright and airy room</td>\n",
       "      <td>83531</td>\n",
       "      <td>Latina</td>\n",
       "      <td>Cármenes</td>\n",
       "      <td>40.40381</td>\n",
       "      <td>-3.74130</td>\n",
       "      <td>Private room</td>\n",
       "      <td>31</td>\n",
       "      <td>4</td>\n",
       "      <td>2</td>\n",
       "      <td>364</td>\n",
       "      <td>We have a quiet and sunny room with a good vie...</td>\n",
       "      <td>f</td>\n",
       "      <td>1</td>\n",
       "      <td>1.0</td>\n",
       "      <td>1.0</td>\n",
       "      <td>33</td>\n",
       "      <td>4.58</td>\n",
       "      <td>4.82</td>\n",
       "      <td>4.21</td>\n",
       "      <td>2267</td>\n",
       "      <td>Latina</td>\n",
       "    </tr>\n",
       "    <tr>\n",
       "      <th>2</th>\n",
       "      <td>2</td>\n",
       "      <td>23001</td>\n",
       "      <td>Apartmento Arganzuela- Madrid Rio</td>\n",
       "      <td>82175</td>\n",
       "      <td>Arganzuela</td>\n",
       "      <td>Legazpi</td>\n",
       "      <td>40.38840</td>\n",
       "      <td>-3.69511</td>\n",
       "      <td>Entire home/apt</td>\n",
       "      <td>50</td>\n",
       "      <td>15</td>\n",
       "      <td>5</td>\n",
       "      <td>222</td>\n",
       "      <td>Apartamento de tres dormitorios dobles, gran s...</td>\n",
       "      <td>f</td>\n",
       "      <td>6</td>\n",
       "      <td>3.0</td>\n",
       "      <td>5.0</td>\n",
       "      <td>0</td>\n",
       "      <td>NaN</td>\n",
       "      <td>NaN</td>\n",
       "      <td>NaN</td>\n",
       "      <td>4085</td>\n",
       "      <td>Arganzuela</td>\n",
       "    </tr>\n",
       "    <tr>\n",
       "      <th>3</th>\n",
       "      <td>3</td>\n",
       "      <td>24805</td>\n",
       "      <td>Gran Via Studio Madrid</td>\n",
       "      <td>346366726</td>\n",
       "      <td>Centro</td>\n",
       "      <td>Universidad</td>\n",
       "      <td>40.42183</td>\n",
       "      <td>-3.70529</td>\n",
       "      <td>Entire home/apt</td>\n",
       "      <td>92</td>\n",
       "      <td>5</td>\n",
       "      <td>1</td>\n",
       "      <td>115</td>\n",
       "      <td>Studio located 50 meters from Gran Via, next t...</td>\n",
       "      <td>f</td>\n",
       "      <td>3</td>\n",
       "      <td>1.0</td>\n",
       "      <td>1.0</td>\n",
       "      <td>12</td>\n",
       "      <td>4.92</td>\n",
       "      <td>5.00</td>\n",
       "      <td>5.00</td>\n",
       "      <td>4827</td>\n",
       "      <td>Centro</td>\n",
       "    </tr>\n",
       "    <tr>\n",
       "      <th>4</th>\n",
       "      <td>4</td>\n",
       "      <td>26825</td>\n",
       "      <td>Single Room whith private Bathroom</td>\n",
       "      <td>114340</td>\n",
       "      <td>Arganzuela</td>\n",
       "      <td>Legazpi</td>\n",
       "      <td>40.38975</td>\n",
       "      <td>-3.69018</td>\n",
       "      <td>Private room</td>\n",
       "      <td>26</td>\n",
       "      <td>2</td>\n",
       "      <td>1</td>\n",
       "      <td>349</td>\n",
       "      <td>Nice and cozy roon for one person with a priva...</td>\n",
       "      <td>f</td>\n",
       "      <td>1</td>\n",
       "      <td>1.0</td>\n",
       "      <td>1.0</td>\n",
       "      <td>149</td>\n",
       "      <td>4.68</td>\n",
       "      <td>4.71</td>\n",
       "      <td>4.70</td>\n",
       "      <td>4085</td>\n",
       "      <td>Arganzuela</td>\n",
       "    </tr>\n",
       "  </tbody>\n",
       "</table>\n",
       "</div>"
      ],
      "text/plain": [
       "   index     id                                      name    host_id  \\\n",
       "0      0   6369  Rooftop terrace room ,  ensuite bathroom      13660   \n",
       "1      1  21853                      Bright and airy room      83531   \n",
       "2      2  23001         Apartmento Arganzuela- Madrid Rio      82175   \n",
       "3      3  24805                    Gran Via Studio Madrid  346366726   \n",
       "4      4  26825        Single Room whith private Bathroom     114340   \n",
       "\n",
       "  neighbourhood_group   neighbourhood  latitude  longitude        room_type  \\\n",
       "0           Chamartín  Hispanoamérica  40.45724   -3.67688     Private room   \n",
       "1              Latina        Cármenes  40.40381   -3.74130     Private room   \n",
       "2          Arganzuela         Legazpi  40.38840   -3.69511  Entire home/apt   \n",
       "3              Centro     Universidad  40.42183   -3.70529  Entire home/apt   \n",
       "4          Arganzuela         Legazpi  40.38975   -3.69018     Private room   \n",
       "\n",
       "   price  minimum_nights  calculated_host_listings_count  availability_365  \\\n",
       "0     60               1                               2               180   \n",
       "1     31               4                               2               364   \n",
       "2     50              15                               5               222   \n",
       "3     92               5                               1               115   \n",
       "4     26               2                               1               349   \n",
       "\n",
       "                                         description host_is_superhost  \\\n",
       "0  Excellent connection with the AIRPORT and EXHI...                 t   \n",
       "1  We have a quiet and sunny room with a good vie...                 f   \n",
       "2  Apartamento de tres dormitorios dobles, gran s...                 f   \n",
       "3  Studio located 50 meters from Gran Via, next t...                 f   \n",
       "4  Nice and cozy roon for one person with a priva...                 f   \n",
       "\n",
       "   accommodates  bedrooms  beds  number_of_reviews  review_scores_rating  \\\n",
       "0             2       1.0   1.0                 80                  4.87   \n",
       "1             1       1.0   1.0                 33                  4.58   \n",
       "2             6       3.0   5.0                  0                   NaN   \n",
       "3             3       1.0   1.0                 12                  4.92   \n",
       "4             1       1.0   1.0                149                  4.68   \n",
       "\n",
       "   review_scores_communication  review_scores_location  precio_m2    distrito  \n",
       "0                         4.89                    4.77       5098   Chamartín  \n",
       "1                         4.82                    4.21       2267      Latina  \n",
       "2                          NaN                     NaN       4085  Arganzuela  \n",
       "3                         5.00                    5.00       4827      Centro  \n",
       "4                         4.71                    4.70       4085  Arganzuela  "
      ]
     },
     "execution_count": 2,
     "metadata": {},
     "output_type": "execute_result"
    }
   ],
   "source": [
    "con = sa.create_engine('sqlite:///../Datos/airbnb.db')\n",
    "\n",
    "df = pd.read_sql('df', con = con)\n",
    "\n",
    "df.head()"
   ]
  },
  {
   "cell_type": "markdown",
   "id": "5709cc4c",
   "metadata": {},
   "source": [
    "## PREPARACION DE VARIABLES"
   ]
  },
  {
   "cell_type": "markdown",
   "id": "c527fb75",
   "metadata": {},
   "source": [
    "### Creacion de kpis de palancas"
   ]
  },
  {
   "cell_type": "markdown",
   "id": "9693f0c6",
   "metadata": {},
   "source": [
    "Primero vamos a crear las variables de análisis que habíamos identificado como KPIs:\n",
    "\n",
    "* **Precio por noche:** Esta ya la tenemos directamente en la variable price.\n",
    "* **Ocupación:** Tenemos availability_365 pero hay que transformarla.\n",
    "* **Precio de compra del inmueble:** Tenemos que crearla con variables externas."
   ]
  },
  {
   "cell_type": "markdown",
   "id": "31e1e6a6",
   "metadata": {},
   "source": [
    "**Empezamos con el precio.**\n",
    "\n",
    "La documentación no aclara si el precio es por todo el inmueble, o si en el caso de que se alquile una habitación es por habitación. Para aclararlo vamos a analizar el precio medio por tipo de alquiler.\n",
    "\n",
    "Es importante filtrar por solo un distrito para no incluir el efecto \"zona\":"
   ]
  },
  {
   "cell_type": "code",
   "execution_count": 3,
   "id": "c06f1ff9",
   "metadata": {},
   "outputs": [
    {
     "data": {
      "text/plain": [
       "distrito\n",
       "Centro                   8127\n",
       "Salamanca                1218\n",
       "Chamberí                 1089\n",
       "Arganzuela               1005\n",
       "Tetuán                    762\n",
       "Retiro                    618\n",
       "Carabanchel               581\n",
       "Chamartín                 538\n",
       "Ciudad Lineal             532\n",
       "Moncloa - Aravaca         493\n",
       "Puente de Vallecas        465\n",
       "San Blas - Canillejas     463\n",
       "Latina                    455\n",
       "Hortaleza                 354\n",
       "Fuencarral - El Pardo     265\n",
       "Usera                     233\n",
       "Barajas                   142\n",
       "Villaverde                129\n",
       "Moratalaz                  94\n",
       "Villa de Vallecas          90\n",
       "Vicálvaro                  57\n",
       "Name: count, dtype: int64"
      ]
     },
     "execution_count": 3,
     "metadata": {},
     "output_type": "execute_result"
    }
   ],
   "source": [
    "df.distrito.value_counts()"
   ]
  },
  {
   "cell_type": "markdown",
   "id": "663cf824-90c8-45be-b5ca-c7236931d344",
   "metadata": {},
   "source": [
    "Nos quedamos con el distrito que tiene más registros para que la conclusión sea más fiable:"
   ]
  },
  {
   "cell_type": "code",
   "execution_count": 5,
   "id": "72809610",
   "metadata": {
    "scrolled": true
   },
   "outputs": [
    {
     "data": {
      "text/plain": [
       "room_type\n",
       "Entire home/apt    148.859980\n",
       "Private room        67.131643\n",
       "Shared room         60.464286\n",
       "Name: price, dtype: float64"
      ]
     },
     "execution_count": 5,
     "metadata": {},
     "output_type": "execute_result"
    }
   ],
   "source": [
    "df.loc[df.distrito == 'Centro',:].groupby('room_type').price.mean()"
   ]
  },
  {
   "cell_type": "markdown",
   "id": "fec3338f",
   "metadata": {},
   "source": [
    "Conclusión:\n",
    "    \n",
    "* Alquilar el apartamento tiene un precio medio de 148€.\n",
    "* Alquilar una habitación tiene un precio medio de 60€ o 67€ según sea compartida o privada.\n",
    "* Por tanto para calcular los \"ingresos\" de un inmueble sí deberemos multiplicar el precio el precio por el número de habitaciones cuando sea de los tipos Private room o Shared room."
   ]
  },
  {
   "cell_type": "markdown",
   "id": "9b50572e",
   "metadata": {},
   "source": [
    "Ahora bien, multiplicar el precio por el total de habitaciones puede sesgar artificialmente al alza la capacidad de generar ingresos de un inmueble.\n",
    "Ya que si se alquila por habitaciones no es probable que siempre esté al 100%.\n",
    "\n",
    "Por tanto deberíamos ponderarlo por el porcentaje medio de habitaciones alquiladas. Como no tenemos ese dato, vamos a suponer que este valor es del 70%."
   ]
  },
  {
   "cell_type": "code",
   "execution_count": 6,
   "id": "1393556d",
   "metadata": {},
   "outputs": [],
   "source": [
    "def crear_precio_total(registro):\n",
    "    if (registro.beds > 1) & ((registro.room_type == 'Private room') | (registro.room_type == 'Shared room')):\n",
    "        salida = registro.price * registro.beds * 0.7\n",
    "    else:\n",
    "        salida = registro.price\n",
    "    return(salida)\n",
    "\n",
    "df['precio_total'] = df.apply(crear_precio_total, axis = 1)"
   ]
  },
  {
   "cell_type": "markdown",
   "id": "1e17bbec",
   "metadata": {},
   "source": [
    "Comprobamos:"
   ]
  },
  {
   "cell_type": "code",
   "execution_count": 7,
   "id": "b81eebc7",
   "metadata": {},
   "outputs": [
    {
     "data": {
      "text/html": [
       "<div>\n",
       "<style scoped>\n",
       "    .dataframe tbody tr th:only-of-type {\n",
       "        vertical-align: middle;\n",
       "    }\n",
       "\n",
       "    .dataframe tbody tr th {\n",
       "        vertical-align: top;\n",
       "    }\n",
       "\n",
       "    .dataframe thead th {\n",
       "        text-align: right;\n",
       "    }\n",
       "</style>\n",
       "<table border=\"1\" class=\"dataframe\">\n",
       "  <thead>\n",
       "    <tr style=\"text-align: right;\">\n",
       "      <th></th>\n",
       "      <th>room_type</th>\n",
       "      <th>price</th>\n",
       "      <th>beds</th>\n",
       "      <th>precio_total</th>\n",
       "    </tr>\n",
       "  </thead>\n",
       "  <tbody>\n",
       "    <tr>\n",
       "      <th>0</th>\n",
       "      <td>Private room</td>\n",
       "      <td>60</td>\n",
       "      <td>1.0</td>\n",
       "      <td>60.0</td>\n",
       "    </tr>\n",
       "    <tr>\n",
       "      <th>1</th>\n",
       "      <td>Private room</td>\n",
       "      <td>31</td>\n",
       "      <td>1.0</td>\n",
       "      <td>31.0</td>\n",
       "    </tr>\n",
       "    <tr>\n",
       "      <th>2</th>\n",
       "      <td>Entire home/apt</td>\n",
       "      <td>50</td>\n",
       "      <td>5.0</td>\n",
       "      <td>50.0</td>\n",
       "    </tr>\n",
       "    <tr>\n",
       "      <th>3</th>\n",
       "      <td>Entire home/apt</td>\n",
       "      <td>92</td>\n",
       "      <td>1.0</td>\n",
       "      <td>92.0</td>\n",
       "    </tr>\n",
       "    <tr>\n",
       "      <th>4</th>\n",
       "      <td>Private room</td>\n",
       "      <td>26</td>\n",
       "      <td>1.0</td>\n",
       "      <td>26.0</td>\n",
       "    </tr>\n",
       "    <tr>\n",
       "      <th>5</th>\n",
       "      <td>Entire home/apt</td>\n",
       "      <td>85</td>\n",
       "      <td>3.0</td>\n",
       "      <td>85.0</td>\n",
       "    </tr>\n",
       "    <tr>\n",
       "      <th>6</th>\n",
       "      <td>Entire home/apt</td>\n",
       "      <td>65</td>\n",
       "      <td>2.0</td>\n",
       "      <td>65.0</td>\n",
       "    </tr>\n",
       "    <tr>\n",
       "      <th>7</th>\n",
       "      <td>Entire home/apt</td>\n",
       "      <td>54</td>\n",
       "      <td>1.0</td>\n",
       "      <td>54.0</td>\n",
       "    </tr>\n",
       "    <tr>\n",
       "      <th>8</th>\n",
       "      <td>Entire home/apt</td>\n",
       "      <td>1400</td>\n",
       "      <td>3.0</td>\n",
       "      <td>1400.0</td>\n",
       "    </tr>\n",
       "    <tr>\n",
       "      <th>9</th>\n",
       "      <td>Entire home/apt</td>\n",
       "      <td>81</td>\n",
       "      <td>2.0</td>\n",
       "      <td>81.0</td>\n",
       "    </tr>\n",
       "    <tr>\n",
       "      <th>10</th>\n",
       "      <td>Entire home/apt</td>\n",
       "      <td>90</td>\n",
       "      <td>3.0</td>\n",
       "      <td>90.0</td>\n",
       "    </tr>\n",
       "    <tr>\n",
       "      <th>11</th>\n",
       "      <td>Entire home/apt</td>\n",
       "      <td>82</td>\n",
       "      <td>2.0</td>\n",
       "      <td>82.0</td>\n",
       "    </tr>\n",
       "    <tr>\n",
       "      <th>12</th>\n",
       "      <td>Private room</td>\n",
       "      <td>40</td>\n",
       "      <td>1.0</td>\n",
       "      <td>40.0</td>\n",
       "    </tr>\n",
       "    <tr>\n",
       "      <th>13</th>\n",
       "      <td>Private room</td>\n",
       "      <td>36</td>\n",
       "      <td>2.0</td>\n",
       "      <td>50.4</td>\n",
       "    </tr>\n",
       "    <tr>\n",
       "      <th>14</th>\n",
       "      <td>Entire home/apt</td>\n",
       "      <td>51</td>\n",
       "      <td>1.0</td>\n",
       "      <td>51.0</td>\n",
       "    </tr>\n",
       "    <tr>\n",
       "      <th>15</th>\n",
       "      <td>Entire home/apt</td>\n",
       "      <td>76</td>\n",
       "      <td>2.0</td>\n",
       "      <td>76.0</td>\n",
       "    </tr>\n",
       "    <tr>\n",
       "      <th>16</th>\n",
       "      <td>Entire home/apt</td>\n",
       "      <td>54</td>\n",
       "      <td>3.0</td>\n",
       "      <td>54.0</td>\n",
       "    </tr>\n",
       "    <tr>\n",
       "      <th>17</th>\n",
       "      <td>Entire home/apt</td>\n",
       "      <td>60</td>\n",
       "      <td>3.0</td>\n",
       "      <td>60.0</td>\n",
       "    </tr>\n",
       "    <tr>\n",
       "      <th>18</th>\n",
       "      <td>Entire home/apt</td>\n",
       "      <td>55</td>\n",
       "      <td>2.0</td>\n",
       "      <td>55.0</td>\n",
       "    </tr>\n",
       "    <tr>\n",
       "      <th>19</th>\n",
       "      <td>Entire home/apt</td>\n",
       "      <td>121</td>\n",
       "      <td>6.0</td>\n",
       "      <td>121.0</td>\n",
       "    </tr>\n",
       "    <tr>\n",
       "      <th>20</th>\n",
       "      <td>Entire home/apt</td>\n",
       "      <td>80</td>\n",
       "      <td>2.0</td>\n",
       "      <td>80.0</td>\n",
       "    </tr>\n",
       "    <tr>\n",
       "      <th>21</th>\n",
       "      <td>Entire home/apt</td>\n",
       "      <td>63</td>\n",
       "      <td>2.0</td>\n",
       "      <td>63.0</td>\n",
       "    </tr>\n",
       "    <tr>\n",
       "      <th>22</th>\n",
       "      <td>Entire home/apt</td>\n",
       "      <td>63</td>\n",
       "      <td>1.0</td>\n",
       "      <td>63.0</td>\n",
       "    </tr>\n",
       "    <tr>\n",
       "      <th>23</th>\n",
       "      <td>Entire home/apt</td>\n",
       "      <td>46</td>\n",
       "      <td>1.0</td>\n",
       "      <td>46.0</td>\n",
       "    </tr>\n",
       "    <tr>\n",
       "      <th>24</th>\n",
       "      <td>Entire home/apt</td>\n",
       "      <td>171</td>\n",
       "      <td>3.0</td>\n",
       "      <td>171.0</td>\n",
       "    </tr>\n",
       "    <tr>\n",
       "      <th>25</th>\n",
       "      <td>Private room</td>\n",
       "      <td>55</td>\n",
       "      <td>1.0</td>\n",
       "      <td>55.0</td>\n",
       "    </tr>\n",
       "    <tr>\n",
       "      <th>26</th>\n",
       "      <td>Private room</td>\n",
       "      <td>26</td>\n",
       "      <td>2.0</td>\n",
       "      <td>36.4</td>\n",
       "    </tr>\n",
       "    <tr>\n",
       "      <th>27</th>\n",
       "      <td>Private room</td>\n",
       "      <td>31</td>\n",
       "      <td>2.0</td>\n",
       "      <td>43.4</td>\n",
       "    </tr>\n",
       "    <tr>\n",
       "      <th>28</th>\n",
       "      <td>Entire home/apt</td>\n",
       "      <td>60</td>\n",
       "      <td>1.0</td>\n",
       "      <td>60.0</td>\n",
       "    </tr>\n",
       "    <tr>\n",
       "      <th>29</th>\n",
       "      <td>Entire home/apt</td>\n",
       "      <td>149</td>\n",
       "      <td>2.0</td>\n",
       "      <td>149.0</td>\n",
       "    </tr>\n",
       "  </tbody>\n",
       "</table>\n",
       "</div>"
      ],
      "text/plain": [
       "          room_type  price  beds  precio_total\n",
       "0      Private room     60   1.0          60.0\n",
       "1      Private room     31   1.0          31.0\n",
       "2   Entire home/apt     50   5.0          50.0\n",
       "3   Entire home/apt     92   1.0          92.0\n",
       "4      Private room     26   1.0          26.0\n",
       "5   Entire home/apt     85   3.0          85.0\n",
       "6   Entire home/apt     65   2.0          65.0\n",
       "7   Entire home/apt     54   1.0          54.0\n",
       "8   Entire home/apt   1400   3.0        1400.0\n",
       "9   Entire home/apt     81   2.0          81.0\n",
       "10  Entire home/apt     90   3.0          90.0\n",
       "11  Entire home/apt     82   2.0          82.0\n",
       "12     Private room     40   1.0          40.0\n",
       "13     Private room     36   2.0          50.4\n",
       "14  Entire home/apt     51   1.0          51.0\n",
       "15  Entire home/apt     76   2.0          76.0\n",
       "16  Entire home/apt     54   3.0          54.0\n",
       "17  Entire home/apt     60   3.0          60.0\n",
       "18  Entire home/apt     55   2.0          55.0\n",
       "19  Entire home/apt    121   6.0         121.0\n",
       "20  Entire home/apt     80   2.0          80.0\n",
       "21  Entire home/apt     63   2.0          63.0\n",
       "22  Entire home/apt     63   1.0          63.0\n",
       "23  Entire home/apt     46   1.0          46.0\n",
       "24  Entire home/apt    171   3.0         171.0\n",
       "25     Private room     55   1.0          55.0\n",
       "26     Private room     26   2.0          36.4\n",
       "27     Private room     31   2.0          43.4\n",
       "28  Entire home/apt     60   1.0          60.0\n",
       "29  Entire home/apt    149   2.0         149.0"
      ]
     },
     "execution_count": 7,
     "metadata": {},
     "output_type": "execute_result"
    }
   ],
   "source": [
    "df[['room_type','price','beds','precio_total']].head(30)"
   ]
  },
  {
   "cell_type": "markdown",
   "id": "4f00b0b1",
   "metadata": {},
   "source": [
    "**Ahora vamos con la ocupación**\n",
    "\n",
    "La variable que tenemos que nos permite medir esto es availability_365. Esta variable nos dice el número de días a un año vista que el inmueble NO está ocupado. Por tanto nos interesaría transformarla a una medida más directa de ocupación, por ejemplo el % del año que SI está ocupada."
   ]
  },
  {
   "cell_type": "code",
   "execution_count": 8,
   "id": "fcca21ea",
   "metadata": {
    "scrolled": true
   },
   "outputs": [
    {
     "data": {
      "text/html": [
       "<div>\n",
       "<style scoped>\n",
       "    .dataframe tbody tr th:only-of-type {\n",
       "        vertical-align: middle;\n",
       "    }\n",
       "\n",
       "    .dataframe tbody tr th {\n",
       "        vertical-align: top;\n",
       "    }\n",
       "\n",
       "    .dataframe thead th {\n",
       "        text-align: right;\n",
       "    }\n",
       "</style>\n",
       "<table border=\"1\" class=\"dataframe\">\n",
       "  <thead>\n",
       "    <tr style=\"text-align: right;\">\n",
       "      <th></th>\n",
       "      <th>index</th>\n",
       "      <th>id</th>\n",
       "      <th>name</th>\n",
       "      <th>host_id</th>\n",
       "      <th>neighbourhood_group</th>\n",
       "      <th>neighbourhood</th>\n",
       "      <th>latitude</th>\n",
       "      <th>longitude</th>\n",
       "      <th>room_type</th>\n",
       "      <th>price</th>\n",
       "      <th>minimum_nights</th>\n",
       "      <th>calculated_host_listings_count</th>\n",
       "      <th>availability_365</th>\n",
       "      <th>description</th>\n",
       "      <th>host_is_superhost</th>\n",
       "      <th>accommodates</th>\n",
       "      <th>bedrooms</th>\n",
       "      <th>beds</th>\n",
       "      <th>number_of_reviews</th>\n",
       "      <th>review_scores_rating</th>\n",
       "      <th>review_scores_communication</th>\n",
       "      <th>review_scores_location</th>\n",
       "      <th>precio_m2</th>\n",
       "      <th>distrito</th>\n",
       "      <th>precio_total</th>\n",
       "      <th>ocupacion</th>\n",
       "    </tr>\n",
       "  </thead>\n",
       "  <tbody>\n",
       "    <tr>\n",
       "      <th>0</th>\n",
       "      <td>0</td>\n",
       "      <td>6369</td>\n",
       "      <td>Rooftop terrace room ,  ensuite bathroom</td>\n",
       "      <td>13660</td>\n",
       "      <td>Chamartín</td>\n",
       "      <td>Hispanoamérica</td>\n",
       "      <td>40.45724</td>\n",
       "      <td>-3.67688</td>\n",
       "      <td>Private room</td>\n",
       "      <td>60</td>\n",
       "      <td>1</td>\n",
       "      <td>2</td>\n",
       "      <td>180</td>\n",
       "      <td>Excellent connection with the AIRPORT and EXHI...</td>\n",
       "      <td>t</td>\n",
       "      <td>2</td>\n",
       "      <td>1.0</td>\n",
       "      <td>1.0</td>\n",
       "      <td>80</td>\n",
       "      <td>4.87</td>\n",
       "      <td>4.89</td>\n",
       "      <td>4.77</td>\n",
       "      <td>5098</td>\n",
       "      <td>Chamartín</td>\n",
       "      <td>60.0</td>\n",
       "      <td>50</td>\n",
       "    </tr>\n",
       "    <tr>\n",
       "      <th>1</th>\n",
       "      <td>1</td>\n",
       "      <td>21853</td>\n",
       "      <td>Bright and airy room</td>\n",
       "      <td>83531</td>\n",
       "      <td>Latina</td>\n",
       "      <td>Cármenes</td>\n",
       "      <td>40.40381</td>\n",
       "      <td>-3.74130</td>\n",
       "      <td>Private room</td>\n",
       "      <td>31</td>\n",
       "      <td>4</td>\n",
       "      <td>2</td>\n",
       "      <td>364</td>\n",
       "      <td>We have a quiet and sunny room with a good vie...</td>\n",
       "      <td>f</td>\n",
       "      <td>1</td>\n",
       "      <td>1.0</td>\n",
       "      <td>1.0</td>\n",
       "      <td>33</td>\n",
       "      <td>4.58</td>\n",
       "      <td>4.82</td>\n",
       "      <td>4.21</td>\n",
       "      <td>2267</td>\n",
       "      <td>Latina</td>\n",
       "      <td>31.0</td>\n",
       "      <td>0</td>\n",
       "    </tr>\n",
       "    <tr>\n",
       "      <th>2</th>\n",
       "      <td>2</td>\n",
       "      <td>23001</td>\n",
       "      <td>Apartmento Arganzuela- Madrid Rio</td>\n",
       "      <td>82175</td>\n",
       "      <td>Arganzuela</td>\n",
       "      <td>Legazpi</td>\n",
       "      <td>40.38840</td>\n",
       "      <td>-3.69511</td>\n",
       "      <td>Entire home/apt</td>\n",
       "      <td>50</td>\n",
       "      <td>15</td>\n",
       "      <td>5</td>\n",
       "      <td>222</td>\n",
       "      <td>Apartamento de tres dormitorios dobles, gran s...</td>\n",
       "      <td>f</td>\n",
       "      <td>6</td>\n",
       "      <td>3.0</td>\n",
       "      <td>5.0</td>\n",
       "      <td>0</td>\n",
       "      <td>NaN</td>\n",
       "      <td>NaN</td>\n",
       "      <td>NaN</td>\n",
       "      <td>4085</td>\n",
       "      <td>Arganzuela</td>\n",
       "      <td>50.0</td>\n",
       "      <td>39</td>\n",
       "    </tr>\n",
       "    <tr>\n",
       "      <th>3</th>\n",
       "      <td>3</td>\n",
       "      <td>24805</td>\n",
       "      <td>Gran Via Studio Madrid</td>\n",
       "      <td>346366726</td>\n",
       "      <td>Centro</td>\n",
       "      <td>Universidad</td>\n",
       "      <td>40.42183</td>\n",
       "      <td>-3.70529</td>\n",
       "      <td>Entire home/apt</td>\n",
       "      <td>92</td>\n",
       "      <td>5</td>\n",
       "      <td>1</td>\n",
       "      <td>115</td>\n",
       "      <td>Studio located 50 meters from Gran Via, next t...</td>\n",
       "      <td>f</td>\n",
       "      <td>3</td>\n",
       "      <td>1.0</td>\n",
       "      <td>1.0</td>\n",
       "      <td>12</td>\n",
       "      <td>4.92</td>\n",
       "      <td>5.00</td>\n",
       "      <td>5.00</td>\n",
       "      <td>4827</td>\n",
       "      <td>Centro</td>\n",
       "      <td>92.0</td>\n",
       "      <td>68</td>\n",
       "    </tr>\n",
       "    <tr>\n",
       "      <th>4</th>\n",
       "      <td>4</td>\n",
       "      <td>26825</td>\n",
       "      <td>Single Room whith private Bathroom</td>\n",
       "      <td>114340</td>\n",
       "      <td>Arganzuela</td>\n",
       "      <td>Legazpi</td>\n",
       "      <td>40.38975</td>\n",
       "      <td>-3.69018</td>\n",
       "      <td>Private room</td>\n",
       "      <td>26</td>\n",
       "      <td>2</td>\n",
       "      <td>1</td>\n",
       "      <td>349</td>\n",
       "      <td>Nice and cozy roon for one person with a priva...</td>\n",
       "      <td>f</td>\n",
       "      <td>1</td>\n",
       "      <td>1.0</td>\n",
       "      <td>1.0</td>\n",
       "      <td>149</td>\n",
       "      <td>4.68</td>\n",
       "      <td>4.71</td>\n",
       "      <td>4.70</td>\n",
       "      <td>4085</td>\n",
       "      <td>Arganzuela</td>\n",
       "      <td>26.0</td>\n",
       "      <td>4</td>\n",
       "    </tr>\n",
       "  </tbody>\n",
       "</table>\n",
       "</div>"
      ],
      "text/plain": [
       "   index     id                                      name    host_id  \\\n",
       "0      0   6369  Rooftop terrace room ,  ensuite bathroom      13660   \n",
       "1      1  21853                      Bright and airy room      83531   \n",
       "2      2  23001         Apartmento Arganzuela- Madrid Rio      82175   \n",
       "3      3  24805                    Gran Via Studio Madrid  346366726   \n",
       "4      4  26825        Single Room whith private Bathroom     114340   \n",
       "\n",
       "  neighbourhood_group   neighbourhood  latitude  longitude        room_type  \\\n",
       "0           Chamartín  Hispanoamérica  40.45724   -3.67688     Private room   \n",
       "1              Latina        Cármenes  40.40381   -3.74130     Private room   \n",
       "2          Arganzuela         Legazpi  40.38840   -3.69511  Entire home/apt   \n",
       "3              Centro     Universidad  40.42183   -3.70529  Entire home/apt   \n",
       "4          Arganzuela         Legazpi  40.38975   -3.69018     Private room   \n",
       "\n",
       "   price  minimum_nights  calculated_host_listings_count  availability_365  \\\n",
       "0     60               1                               2               180   \n",
       "1     31               4                               2               364   \n",
       "2     50              15                               5               222   \n",
       "3     92               5                               1               115   \n",
       "4     26               2                               1               349   \n",
       "\n",
       "                                         description host_is_superhost  \\\n",
       "0  Excellent connection with the AIRPORT and EXHI...                 t   \n",
       "1  We have a quiet and sunny room with a good vie...                 f   \n",
       "2  Apartamento de tres dormitorios dobles, gran s...                 f   \n",
       "3  Studio located 50 meters from Gran Via, next t...                 f   \n",
       "4  Nice and cozy roon for one person with a priva...                 f   \n",
       "\n",
       "   accommodates  bedrooms  beds  number_of_reviews  review_scores_rating  \\\n",
       "0             2       1.0   1.0                 80                  4.87   \n",
       "1             1       1.0   1.0                 33                  4.58   \n",
       "2             6       3.0   5.0                  0                   NaN   \n",
       "3             3       1.0   1.0                 12                  4.92   \n",
       "4             1       1.0   1.0                149                  4.68   \n",
       "\n",
       "   review_scores_communication  review_scores_location  precio_m2    distrito  \\\n",
       "0                         4.89                    4.77       5098   Chamartín   \n",
       "1                         4.82                    4.21       2267      Latina   \n",
       "2                          NaN                     NaN       4085  Arganzuela   \n",
       "3                         5.00                    5.00       4827      Centro   \n",
       "4                         4.71                    4.70       4085  Arganzuela   \n",
       "\n",
       "   precio_total  ocupacion  \n",
       "0          60.0         50  \n",
       "1          31.0          0  \n",
       "2          50.0         39  \n",
       "3          92.0         68  \n",
       "4          26.0          4  "
      ]
     },
     "execution_count": 8,
     "metadata": {},
     "output_type": "execute_result"
    }
   ],
   "source": [
    "df['ocupacion'] = ((365 - df.availability_365) / 365 * 100).astype('int')\n",
    "df.head()"
   ]
  },
  {
   "cell_type": "markdown",
   "id": "2292151d",
   "metadata": {},
   "source": [
    "### Transformación de varaibles de análisis"
   ]
  },
  {
   "cell_type": "markdown",
   "id": "23e139a4",
   "metadata": {},
   "source": [
    "Algunas de las preguntas semilla que planteamos están dirigidas a comprobar cómo se comporta el precio o la ocupación según otras variables como el número de habitaciones, la media de valoraciones, etc.\n",
    "\n",
    "Para este tipo de análisis conviene discretizar las variables de interés. En nuestro caso las candidatas para este análisis son: accommodates, bedrooms, beds y number_of_reviews.\n",
    "\n",
    "En bedrooms tiene sentido una discretización más personalizada. En las otras las haremos de forma automática."
   ]
  },
  {
   "cell_type": "markdown",
   "id": "b064146e",
   "metadata": {},
   "source": [
    "**Discretizar bedrooms**\n",
    "\n",
    "Comenzamos por evaluar la distribución de los datos:"
   ]
  },
  {
   "cell_type": "code",
   "execution_count": 9,
   "id": "513a1b16",
   "metadata": {},
   "outputs": [
    {
     "data": {
      "image/png": "[encoded data removed]",
      "text/plain": [
       "<Figure size 640x480 with 1 Axes>"
      ]
     },
     "metadata": {},
     "output_type": "display_data"
    }
   ],
   "source": [
    "df.bedrooms.value_counts().plot.bar();"
   ]
  },
  {
   "cell_type": "markdown",
   "id": "d40be29a",
   "metadata": {},
   "source": [
    "Vamos a discretizar para 1,2,3 y más de 3.\n",
    "\n",
    "Podemos usar np.select"
   ]
  },
  {
   "cell_type": "code",
   "execution_count": 10,
   "id": "f605a2c8",
   "metadata": {},
   "outputs": [],
   "source": [
    "condiciones = [df.bedrooms == 1,\n",
    "               df.bedrooms == 2,\n",
    "               df.bedrooms == 3,\n",
    "               df.bedrooms > 3]\n",
    "\n",
    "resultados = ['01_Una','02_Dos','03_Tres','04_Cuatro o mas']\n",
    "\n",
    "df['bedrooms_disc'] = np.select(condiciones, resultados, default = -999)"
   ]
  },
  {
   "cell_type": "markdown",
   "id": "eea7a91f",
   "metadata": {},
   "source": [
    "Comprobamos:"
   ]
  },
  {
   "cell_type": "code",
   "execution_count": 11,
   "id": "f3ef5087",
   "metadata": {},
   "outputs": [
    {
     "data": {
      "text/plain": [
       "bedrooms_disc\n",
       "01_Una             12422\n",
       "02_Dos              3617\n",
       "03_Tres             1228\n",
       "04_Cuatro o mas      443\n",
       "Name: count, dtype: int64"
      ]
     },
     "execution_count": 11,
     "metadata": {},
     "output_type": "execute_result"
    }
   ],
   "source": [
    "df.bedrooms_disc.value_counts()"
   ]
  },
  {
   "cell_type": "code",
   "execution_count": 12,
   "id": "4976edb1",
   "metadata": {},
   "outputs": [
    {
     "data": {
      "image/png": "[encoded data removed]",
      "text/plain": [
       "<Figure size 640x480 with 1 Axes>"
      ]
     },
     "metadata": {},
     "output_type": "display_data"
    }
   ],
   "source": [
    "df.bedrooms_disc.value_counts().plot.bar();"
   ]
  },
  {
   "cell_type": "markdown",
   "id": "98415289",
   "metadata": {},
   "source": [
    "**Discretizar accommodates, beds y number_of_reviews**\n",
    "\n",
    "Vamos a usar qcut para discritizar con percentiles 0.5, 0.8, 1"
   ]
  },
  {
   "cell_type": "code",
   "execution_count": 13,
   "id": "e9a93eab",
   "metadata": {
    "scrolled": true
   },
   "outputs": [
    {
     "data": {
      "image/png": "[encoded data removed]",
      "text/plain": [
       "<Figure size 640x480 with 1 Axes>"
      ]
     },
     "metadata": {},
     "output_type": "display_data"
    }
   ],
   "source": [
    "df['accommodates_disc'] = pd.qcut(df.accommodates,[0, 0.5, 0.8, 1],\n",
    "                                 labels = ['0-3','4','5-16'])\n",
    "\n",
    "df['accommodates_disc'].value_counts().sort_index(ascending = False).plot.barh();"
   ]
  },
  {
   "cell_type": "code",
   "execution_count": 30,
   "id": "3742d39e",
   "metadata": {
    "scrolled": true
   },
   "outputs": [
    {
     "data": {
      "image/png": "[encoded data removed]",
      "text/plain": [
       "<Figure size 640x480 with 1 Axes>"
      ]
     },
     "metadata": {},
     "output_type": "display_data"
    }
   ],
   "source": [
    "df['beds_disc'] = pd.qcut(df.beds,[0, 0.5, 0.8, 1],\n",
    "                         labels = ['1-2','3','4-24'])\n",
    "\n",
    "df['beds_disc'].value_counts().sort_index(ascending = False).plot.barh();"
   ]
  },
  {
   "cell_type": "code",
   "execution_count": 31,
   "id": "32f838e6-5037-4978-96af-97974a5abf82",
   "metadata": {},
   "outputs": [
    {
     "data": {
      "text/plain": [
       "number_of_reviews\n",
       "(-0.001, 5.0]    8871\n",
       "(5.0, 49.0]      5304\n",
       "(49.0, 744.0]    3535\n",
       "Name: count, dtype: int64"
      ]
     },
     "execution_count": 31,
     "metadata": {},
     "output_type": "execute_result"
    }
   ],
   "source": [
    "pd.qcut(df.number_of_reviews,[0, 0.5, 0.8, 1]).value_counts()"
   ]
  },
  {
   "cell_type": "code",
   "execution_count": 32,
   "id": "31610e2b",
   "metadata": {},
   "outputs": [
    {
     "data": {
      "image/png": "[encoded data removed]",
      "text/plain": [
       "<Figure size 640x480 with 1 Axes>"
      ]
     },
     "metadata": {},
     "output_type": "display_data"
    }
   ],
   "source": [
    "df['number_of_reviews_disc'] = pd.qcut(df.number_of_reviews,[0, 0.5, 0.8, 1],\n",
    "                                      labels = ['1-5','6-49','50-744'])\n",
    "\n",
    "df['number_of_reviews_disc'].value_counts().sort_index(ascending = False).plot.barh();"
   ]
  },
  {
   "cell_type": "markdown",
   "id": "4f09044a",
   "metadata": {},
   "source": [
    "### Creación de variables con datos externos"
   ]
  },
  {
   "cell_type": "markdown",
   "id": "4f773e75",
   "metadata": {},
   "source": [
    "Vamos a estimar la palanca de **precio de compra del inmueble**. Para ello decidímos multiplicar los metros cuadrados de la vivienda por el precio por m$^2$ medio de cada distrito obtenido de la base de datos de idealista.\n",
    "\n",
    "El precio_m2 ya lo hemos conseguido, pero el tamaño del inmueble no lo tenemos en los datos. Para ello, podemos establecer unos criterios en base al número de habitaciones. No es perfecto, pero nos servirá de aproximación."
   ]
  },
  {
   "cell_type": "markdown",
   "id": "adf059ce",
   "metadata": {},
   "source": [
    "**Estimación de los metros cuadrados del inmueble**\n",
    "\n",
    "Vamos usar el siguiente algoritmo:\n",
    "\n",
    "* Una habitación: 50 m$^2$.\n",
    "* Dos habitaciones: 70 m$^2$.\n",
    "* Tres habitaciones: 90 m$^2$.\n",
    "* Cuatro habitaciones: 120 m$^2$.\n",
    "* Cinco o más habitaciones: 150 m$^2$."
   ]
  },
  {
   "cell_type": "code",
   "execution_count": 33,
   "id": "1f972353",
   "metadata": {},
   "outputs": [],
   "source": [
    "condiciones = [df.bedrooms == 1,\n",
    "               df.bedrooms == 2,\n",
    "               df.bedrooms == 3,\n",
    "               df.bedrooms == 4,\n",
    "               df.bedrooms > 4]\n",
    "\n",
    "resultados = [50,70,90,120,150]\n",
    "\n",
    "df['m2'] = np.select(condiciones, resultados, default = -999)"
   ]
  },
  {
   "cell_type": "markdown",
   "id": "2209cc4c",
   "metadata": {},
   "source": [
    "Comprobamos:"
   ]
  },
  {
   "cell_type": "code",
   "execution_count": 34,
   "id": "ed8bf69c",
   "metadata": {},
   "outputs": [
    {
     "data": {
      "text/plain": [
       "m2\n",
       "50     12422\n",
       "70      3617\n",
       "90      1228\n",
       "120      296\n",
       "150      147\n",
       "Name: count, dtype: int64"
      ]
     },
     "execution_count": 34,
     "metadata": {},
     "output_type": "execute_result"
    }
   ],
   "source": [
    "df['m2'].value_counts()"
   ]
  },
  {
   "cell_type": "markdown",
   "id": "617d4301",
   "metadata": {},
   "source": [
    "Ahora ya podemos estimar el precio de compra del inmueble.\n",
    "\n",
    "Recordamos que al precio que nos sale le quitábamos un 30% por capacidad de negociación."
   ]
  },
  {
   "cell_type": "code",
   "execution_count": 35,
   "id": "53b97c07",
   "metadata": {},
   "outputs": [],
   "source": [
    "df['precio_compra'] = df.m2 * df.precio_m2 * 0.7"
   ]
  },
  {
   "cell_type": "markdown",
   "id": "d1ffeeef",
   "metadata": {},
   "source": [
    "Comprobamos:"
   ]
  },
  {
   "cell_type": "code",
   "execution_count": 36,
   "id": "4661965c",
   "metadata": {},
   "outputs": [
    {
     "data": {
      "text/html": [
       "<div>\n",
       "<style scoped>\n",
       "    .dataframe tbody tr th:only-of-type {\n",
       "        vertical-align: middle;\n",
       "    }\n",
       "\n",
       "    .dataframe tbody tr th {\n",
       "        vertical-align: top;\n",
       "    }\n",
       "\n",
       "    .dataframe thead th {\n",
       "        text-align: right;\n",
       "    }\n",
       "</style>\n",
       "<table border=\"1\" class=\"dataframe\">\n",
       "  <thead>\n",
       "    <tr style=\"text-align: right;\">\n",
       "      <th></th>\n",
       "      <th>bedrooms</th>\n",
       "      <th>m2</th>\n",
       "      <th>distrito</th>\n",
       "      <th>precio_m2</th>\n",
       "      <th>precio_compra</th>\n",
       "    </tr>\n",
       "  </thead>\n",
       "  <tbody>\n",
       "    <tr>\n",
       "      <th>0</th>\n",
       "      <td>1.0</td>\n",
       "      <td>50</td>\n",
       "      <td>Chamartín</td>\n",
       "      <td>5098</td>\n",
       "      <td>178430.0</td>\n",
       "    </tr>\n",
       "    <tr>\n",
       "      <th>1</th>\n",
       "      <td>1.0</td>\n",
       "      <td>50</td>\n",
       "      <td>Latina</td>\n",
       "      <td>2267</td>\n",
       "      <td>79345.0</td>\n",
       "    </tr>\n",
       "    <tr>\n",
       "      <th>2</th>\n",
       "      <td>3.0</td>\n",
       "      <td>90</td>\n",
       "      <td>Arganzuela</td>\n",
       "      <td>4085</td>\n",
       "      <td>257355.0</td>\n",
       "    </tr>\n",
       "    <tr>\n",
       "      <th>3</th>\n",
       "      <td>1.0</td>\n",
       "      <td>50</td>\n",
       "      <td>Centro</td>\n",
       "      <td>4827</td>\n",
       "      <td>168945.0</td>\n",
       "    </tr>\n",
       "    <tr>\n",
       "      <th>4</th>\n",
       "      <td>1.0</td>\n",
       "      <td>50</td>\n",
       "      <td>Arganzuela</td>\n",
       "      <td>4085</td>\n",
       "      <td>142975.0</td>\n",
       "    </tr>\n",
       "    <tr>\n",
       "      <th>5</th>\n",
       "      <td>3.0</td>\n",
       "      <td>90</td>\n",
       "      <td>Arganzuela</td>\n",
       "      <td>4085</td>\n",
       "      <td>257355.0</td>\n",
       "    </tr>\n",
       "    <tr>\n",
       "      <th>6</th>\n",
       "      <td>1.0</td>\n",
       "      <td>50</td>\n",
       "      <td>Centro</td>\n",
       "      <td>4827</td>\n",
       "      <td>168945.0</td>\n",
       "    </tr>\n",
       "    <tr>\n",
       "      <th>7</th>\n",
       "      <td>1.0</td>\n",
       "      <td>50</td>\n",
       "      <td>Centro</td>\n",
       "      <td>4827</td>\n",
       "      <td>168945.0</td>\n",
       "    </tr>\n",
       "    <tr>\n",
       "      <th>8</th>\n",
       "      <td>2.0</td>\n",
       "      <td>70</td>\n",
       "      <td>Centro</td>\n",
       "      <td>4827</td>\n",
       "      <td>236523.0</td>\n",
       "    </tr>\n",
       "    <tr>\n",
       "      <th>9</th>\n",
       "      <td>1.0</td>\n",
       "      <td>50</td>\n",
       "      <td>Centro</td>\n",
       "      <td>4827</td>\n",
       "      <td>168945.0</td>\n",
       "    </tr>\n",
       "    <tr>\n",
       "      <th>10</th>\n",
       "      <td>1.0</td>\n",
       "      <td>50</td>\n",
       "      <td>Centro</td>\n",
       "      <td>4827</td>\n",
       "      <td>168945.0</td>\n",
       "    </tr>\n",
       "    <tr>\n",
       "      <th>11</th>\n",
       "      <td>2.0</td>\n",
       "      <td>70</td>\n",
       "      <td>Salamanca</td>\n",
       "      <td>6114</td>\n",
       "      <td>299586.0</td>\n",
       "    </tr>\n",
       "    <tr>\n",
       "      <th>12</th>\n",
       "      <td>1.0</td>\n",
       "      <td>50</td>\n",
       "      <td>Centro</td>\n",
       "      <td>4827</td>\n",
       "      <td>168945.0</td>\n",
       "    </tr>\n",
       "    <tr>\n",
       "      <th>13</th>\n",
       "      <td>1.0</td>\n",
       "      <td>50</td>\n",
       "      <td>Centro</td>\n",
       "      <td>4827</td>\n",
       "      <td>168945.0</td>\n",
       "    </tr>\n",
       "    <tr>\n",
       "      <th>14</th>\n",
       "      <td>1.0</td>\n",
       "      <td>50</td>\n",
       "      <td>Centro</td>\n",
       "      <td>4827</td>\n",
       "      <td>168945.0</td>\n",
       "    </tr>\n",
       "    <tr>\n",
       "      <th>15</th>\n",
       "      <td>1.0</td>\n",
       "      <td>50</td>\n",
       "      <td>Centro</td>\n",
       "      <td>4827</td>\n",
       "      <td>168945.0</td>\n",
       "    </tr>\n",
       "    <tr>\n",
       "      <th>16</th>\n",
       "      <td>1.0</td>\n",
       "      <td>50</td>\n",
       "      <td>Centro</td>\n",
       "      <td>4827</td>\n",
       "      <td>168945.0</td>\n",
       "    </tr>\n",
       "    <tr>\n",
       "      <th>17</th>\n",
       "      <td>2.0</td>\n",
       "      <td>70</td>\n",
       "      <td>Centro</td>\n",
       "      <td>4827</td>\n",
       "      <td>236523.0</td>\n",
       "    </tr>\n",
       "    <tr>\n",
       "      <th>18</th>\n",
       "      <td>2.0</td>\n",
       "      <td>70</td>\n",
       "      <td>Centro</td>\n",
       "      <td>4827</td>\n",
       "      <td>236523.0</td>\n",
       "    </tr>\n",
       "    <tr>\n",
       "      <th>19</th>\n",
       "      <td>3.0</td>\n",
       "      <td>90</td>\n",
       "      <td>Centro</td>\n",
       "      <td>4827</td>\n",
       "      <td>304101.0</td>\n",
       "    </tr>\n",
       "  </tbody>\n",
       "</table>\n",
       "</div>"
      ],
      "text/plain": [
       "    bedrooms  m2    distrito  precio_m2  precio_compra\n",
       "0        1.0  50   Chamartín       5098       178430.0\n",
       "1        1.0  50      Latina       2267        79345.0\n",
       "2        3.0  90  Arganzuela       4085       257355.0\n",
       "3        1.0  50      Centro       4827       168945.0\n",
       "4        1.0  50  Arganzuela       4085       142975.0\n",
       "5        3.0  90  Arganzuela       4085       257355.0\n",
       "6        1.0  50      Centro       4827       168945.0\n",
       "7        1.0  50      Centro       4827       168945.0\n",
       "8        2.0  70      Centro       4827       236523.0\n",
       "9        1.0  50      Centro       4827       168945.0\n",
       "10       1.0  50      Centro       4827       168945.0\n",
       "11       2.0  70   Salamanca       6114       299586.0\n",
       "12       1.0  50      Centro       4827       168945.0\n",
       "13       1.0  50      Centro       4827       168945.0\n",
       "14       1.0  50      Centro       4827       168945.0\n",
       "15       1.0  50      Centro       4827       168945.0\n",
       "16       1.0  50      Centro       4827       168945.0\n",
       "17       2.0  70      Centro       4827       236523.0\n",
       "18       2.0  70      Centro       4827       236523.0\n",
       "19       3.0  90      Centro       4827       304101.0"
      ]
     },
     "execution_count": 36,
     "metadata": {},
     "output_type": "execute_result"
    }
   ],
   "source": [
    "df[['bedrooms','m2','distrito','precio_m2','precio_compra']].head(20)"
   ]
  },
  {
   "cell_type": "markdown",
   "id": "1b1a555f",
   "metadata": {},
   "source": [
    "Además, podríamos calcular las distancias a diferentes puntos de interés como monumentos, lugares de ocio, recintos deportivos, etc. pues en el alquiler turístico la distancia a este tipo de localizaciones es importante.\n",
    "\n",
    "Simplemente como ejemplo vamos a calcular la distancia de cada inmueble a la Puerta del Sol, cuyas coordenadas de longitud y latitud pueden encontrarse en: https://www.123coordenadas.com/coordinates/81497-puerta-del-sol-madrid\n",
    "\n",
    "* Latitud: 40.4167278.\n",
    "* Longitud: -3.7033387."
   ]
  },
  {
   "cell_type": "markdown",
   "id": "54271007",
   "metadata": {},
   "source": [
    "**Cálculo de la distancia de cada inmueble a la Puerta del Sol**\n",
    "\n",
    "Dada la curvatura de la tierra la distancia entre dos puntos a partir de su latitud y longitud se calcula utilizando la distancia de **Haversine**.\n",
    "\n",
    "Una búsqueda en Google nos da una función ya construída para calcularla que podemos adaptar: https://stackoverflow.com/questions/4913349/haversine-formula-in-python-bearing-and-distance-between-two-gps-points"
   ]
  },
  {
   "cell_type": "code",
   "execution_count": 37,
   "id": "3faa2114",
   "metadata": {},
   "outputs": [],
   "source": [
    "from math import radians, cos, sin, asin, sqrt\n",
    "\n",
    "def haversine(lat1, lon1, lat2, lon2):\n",
    "\n",
    "      R = 6372.8 #En km, si usas millas tienes que cambiarlo por 3959.87433\n",
    "\n",
    "      dLat = radians(lat2 - lat1)\n",
    "      dLon = radians(lon2 - lon1)\n",
    "      lat1 = radians(lat1)\n",
    "      lat2 = radians(lat2)\n",
    "\n",
    "      a = sin(dLat/2)**2 + cos(lat1)*cos(lat2)*sin(dLon/2)**2\n",
    "      c = 2*asin(sqrt(a))\n",
    "\n",
    "      return R * c"
   ]
  },
  {
   "cell_type": "markdown",
   "id": "bcb427a3",
   "metadata": {},
   "source": [
    "Creamos la variable:"
   ]
  },
  {
   "cell_type": "code",
   "execution_count": 38,
   "id": "d5c0fa0d",
   "metadata": {},
   "outputs": [],
   "source": [
    "#Las coordenadas de la Puerta del Sol serán lat1 y lon1\n",
    "lat1 = 40.4167278\n",
    "lon1 = -3.7033387\n",
    "\n",
    "df['pdi_sol'] = df.apply(lambda registro: haversine(lat1,lon1,registro.latitude,registro.longitude),axis = 1)"
   ]
  },
  {
   "cell_type": "markdown",
   "id": "ed96230c",
   "metadata": {},
   "source": [
    "Comprobamos revisando la distancia media por distritos."
   ]
  },
  {
   "cell_type": "code",
   "execution_count": 39,
   "id": "357d755f",
   "metadata": {},
   "outputs": [
    {
     "data": {
      "text/plain": [
       "distrito\n",
       "Centro                    0.730611\n",
       "Arganzuela                1.939114\n",
       "Chamberí                  2.133167\n",
       "Retiro                    2.450593\n",
       "Salamanca                 2.715975\n",
       "Moncloa - Aravaca         3.294526\n",
       "Usera                     3.928874\n",
       "Latina                    3.942634\n",
       "Carabanchel               3.970238\n",
       "Chamartín                 4.432842\n",
       "Puente de Vallecas        4.481127\n",
       "Tetuán                    4.624605\n",
       "Moratalaz                 5.073901\n",
       "Ciudad Lineal             5.231293\n",
       "Villaverde                7.664192\n",
       "Fuencarral - El Pardo     8.062301\n",
       "Hortaleza                 8.074184\n",
       "San Blas - Canillejas     8.199011\n",
       "Vicálvaro                 8.599559\n",
       "Villa de Vallecas         9.176618\n",
       "Barajas                  11.439064\n",
       "Name: pdi_sol, dtype: float64"
      ]
     },
     "execution_count": 39,
     "metadata": {},
     "output_type": "execute_result"
    }
   ],
   "source": [
    "df.groupby('distrito').pdi_sol.mean().sort_values()"
   ]
  },
  {
   "cell_type": "markdown",
   "id": "9b9e43fd",
   "metadata": {},
   "source": [
    "## GUARDAMOS EN EL DATAMART"
   ]
  },
  {
   "cell_type": "markdown",
   "id": "0616fce6",
   "metadata": {},
   "source": [
    "Vamos a guardar esta version como df_preparado:"
   ]
  },
  {
   "cell_type": "code",
   "execution_count": 40,
   "id": "ca539860",
   "metadata": {},
   "outputs": [
    {
     "data": {
      "text/plain": [
       "17710"
      ]
     },
     "execution_count": 40,
     "metadata": {},
     "output_type": "execute_result"
    }
   ],
   "source": [
    "df.to_sql('df_preparado', con = con, if_exists = 'replace')"
   ]
  }
 ],
 "metadata": {
  "kernelspec": {
   "display_name": "Python 3 (ipykernel)",
   "language": "python",
   "name": "python3"
  },
  "language_info": {
   "codemirror_mode": {
    "name": "ipython",
    "version": 3
   },
   "file_extension": ".py",
   "mimetype": "text/x-python",
   "name": "python",
   "nbconvert_exporter": "python",
   "pygments_lexer": "ipython3",
   "version": "3.12.2"
  },
  "toc": {
   "base_numbering": 1,
   "nav_menu": {},
   "number_sections": true,
   "sideBar": true,
   "skip_h1_title": false,
   "title_cell": "Table of Contents",
   "title_sidebar": "Contents",
   "toc_cell": false,
   "toc_position": {},
   "toc_section_display": true,
   "toc_window_display": true
  },
  "varInspector": {
   "cols": {
    "lenName": 16,
    "lenType": 16,
    "lenVar": 40
   },
   "kernels_config": {
    "python": {
     "delete_cmd_postfix": "",
     "delete_cmd_prefix": "del ",
     "library": "var_list.py",
     "varRefreshCmd": "print(var_dic_list())"
    },
    "r": {
     "delete_cmd_postfix": ") ",
     "delete_cmd_prefix": "rm(",
     "library": "var_list.r",
     "varRefreshCmd": "cat(var_dic_list()) "
    }
   },
   "types_to_exclude": [
    "module",
    "function",
    "builtin_function_or_method",
    "instance",
    "_Feature"
   ],
   "window_display": false
  }
 },
 "nbformat": 4,
 "nbformat_minor": 5
}
