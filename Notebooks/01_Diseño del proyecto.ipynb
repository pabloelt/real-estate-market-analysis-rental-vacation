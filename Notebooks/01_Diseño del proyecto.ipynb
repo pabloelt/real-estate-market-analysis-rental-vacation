{
 "cells": [
  {
   "cell_type": "markdown",
   "id": "65619eaf",
   "metadata": {},
   "source": [
    "# DISEÑO DEL PROYECTO"
   ]
  },
  {
   "cell_type": "markdown",
   "id": "8e0ec15b",
   "metadata": {},
   "source": [
    "En este proyecto se analizará las posibles inversiones inmobiliarias en el sector del alquiler turístico dentro de la ciudad de Madrid. Para ello analizaremos los datos que el líder del sector (AirBnb) hace públicos e intentaremos encontrar los tipos de inmuebles que tienen mayor potencial comercial para el alquier turístico."
   ]
  },
  {
   "cell_type": "markdown",
   "id": "f1a9a140",
   "metadata": {},
   "source": [
    "## OBJETIVO"
   ]
  },
  {
   "cell_type": "markdown",
   "id": "2f54133f",
   "metadata": {},
   "source": [
    "El objetivo pricipal será localizar el perfil (o perfiles) de inmuebles que maximizan el potencial comercial en el mercado del alquiler turístico. Indicando así al equipo de valoraciones dónde debe empezar a buscar este tipo de oportunidades y los principales barrios y zonas geográficas donde es más interesante focalizarse."
   ]
  },
  {
   "cell_type": "markdown",
   "id": "8fb8aca2",
   "metadata": {},
   "source": [
    "## PALANCAS"
   ]
  },
  {
   "cell_type": "markdown",
   "id": "d9380334",
   "metadata": {},
   "source": [
    "Las palancas que tienen mayor impacto en este tipo de inversiones son claras:\n",
    "\n",
    "* **Precio alquiler:** A mayor precio de alquiler por noche mayor es la rentabilidad.\n",
    "* **Ocupación:** Cuantos más días al año se pueda alquilar un inmueble mayor es la rentabilidad.\n",
    "* **Precio inmueble:** Cuanto más barato se pueda adquirir la propiedad mayor es la rentabilidad."
   ]
  },
  {
   "cell_type": "markdown",
   "id": "d321de30",
   "metadata": {},
   "source": [
    "## KPIs"
   ]
  },
  {
   "cell_type": "markdown",
   "id": "dc75cf61",
   "metadata": {},
   "source": [
    "Los KPIs en este caso son bastante directos:\n",
    "\n",
    "* **KPI 1:** Mediremos el precio del alquiler como el precio por noche en euros según los datos registrados en Airbnb.\n",
    "* **KPI 2:** Mediremos la ocupación como el número de días anuales que el inmueble se pueda alquilar.\n",
    "* **KPI 3:** Mediremos el precio de compra un inmueble como la multiplicación entre el número de metros cuadrados y el precio medio del m$^2$ en la zona del imbueble. Además, aplicaremos un 25% de descuento sobre el precio oficial asumiendo que nuestro equipo de compras tiene ese poder de negociciación."
   ]
  },
  {
   "cell_type": "markdown",
   "id": "28a6275a",
   "metadata": {},
   "source": [
    "## ENTIDADES Y DATOS"
   ]
  },
  {
   "cell_type": "markdown",
   "id": "43bda11d",
   "metadata": {},
   "source": [
    "Las entidades más relevantes de las que podemos disponer de datos son:\n",
    "\n",
    "* Inmuebles\n",
    "* Propietarios\n",
    "* Distritos"
   ]
  },
  {
   "cell_type": "markdown",
   "id": "80de46d9",
   "metadata": {},
   "source": [
    "## PREGUNTAS SEMILLA"
   ]
  },
  {
   "cell_type": "markdown",
   "id": "d8fd1d3e",
   "metadata": {},
   "source": [
    "Sobre el precio del alquiler:\n",
    "\n",
    "* ¿Cual es el precio medio? ¿y el rango de precios?¿Y por distritos?¿Y por barrios?\n",
    "* ¿Cual es el ranking de distritos y barrios por precio medio de alquiler?\n",
    "* ¿Qué factores (a parte de la localización) determinan el precio del alquiler?\n",
    "* ¿Cual es la relación entre el tamaño del inmueble y el precio por el que se puede alquilar?\n",
    "* ¿Cómo influye la competencia (num inmuebles disponibles por barrio) sobre el precio del alquiler?\n",
    "* ¿Cómo varían los precios por tipo de alquiler (todo el piso, habitación privada, habitación compartida)?\n",
    "\n",
    "\n",
    "Sobre la ocupación:\n",
    "\n",
    "* ¿Cual es la ocupación media? ¿Y por distritos?¿Y por barrios?\n",
    "* ¿Cómo de probable es cada nivel de ocupación en cada distrito?\n",
    "* ¿Cual es el ranking de distritos y barrios por ocupación?\n",
    "* ¿Qué factores (a parte de la localización) determinan la ocupación?\n",
    "* ¿Cual es la relación entre el tamaño del inmueble y su grado de ocupación?\n",
    "* ¿Cómo influye la competencia (num inmuebles disponibles por barrio) sobre la ocupación?\n",
    "\n",
    "Sobre el precio de compra:\n",
    "\n",
    "* ¿Cual es el ranking de precio por m$^2$ por distrito?\n",
    "* ¿Cual es el ranking de precio del inmueble (m$^2$ * tamaño medio) por distrito?\n",
    "* ¿Cual es la relación entre el precio del inmueble y el precio del alquiler por distrito?\n",
    "* ¿Cual es la relación entre el precio del inmueble y la ocupación por distrito?"
   ]
  }
 ],
 "metadata": {
  "kernelspec": {
   "display_name": "Python 3 (ipykernel)",
   "language": "python",
   "name": "python3"
  },
  "language_info": {
   "codemirror_mode": {
    "name": "ipython",
    "version": 3
   },
   "file_extension": ".py",
   "mimetype": "text/x-python",
   "name": "python",
   "nbconvert_exporter": "python",
   "pygments_lexer": "ipython3",
   "version": "3.12.2"
  },
  "toc": {
   "base_numbering": 1,
   "nav_menu": {},
   "number_sections": true,
   "sideBar": true,
   "skip_h1_title": false,
   "title_cell": "Table of Contents",
   "title_sidebar": "Contents",
   "toc_cell": false,
   "toc_position": {},
   "toc_section_display": true,
   "toc_window_display": true
  },
  "varInspector": {
   "cols": {
    "lenName": 16,
    "lenType": 16,
    "lenVar": 40
   },
   "kernels_config": {
    "python": {
     "delete_cmd_postfix": "",
     "delete_cmd_prefix": "del ",
     "library": "var_list.py",
     "varRefreshCmd": "print(var_dic_list())"
    },
    "r": {
     "delete_cmd_postfix": ") ",
     "delete_cmd_prefix": "rm(",
     "library": "var_list.r",
     "varRefreshCmd": "cat(var_dic_list()) "
    }
   },
   "types_to_exclude": [
    "module",
    "function",
    "builtin_function_or_method",
    "instance",
    "_Feature"
   ],
   "window_display": false
  }
 },
 "nbformat": 4,
 "nbformat_minor": 5
}
